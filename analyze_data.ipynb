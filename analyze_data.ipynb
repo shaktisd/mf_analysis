{
 "cells": [
  {
   "cell_type": "code",
   "execution_count": 1,
   "metadata": {},
   "outputs": [],
   "source": [
    "import pandas as pd\n",
    "import yfinance as yf"
   ]
  },
  {
   "cell_type": "code",
   "execution_count": null,
   "metadata": {},
   "outputs": [
    {
     "name": "stderr",
     "output_type": "stream",
     "text": [
      "[*********************100%***********************]  1 of 1 completed\n"
     ]
    }
   ],
   "source": [
    "# ticker = \"BSE-500.BO\"\n",
    "# df = yf.download(ticker, start=\"2007-09-01\", end=\"2025-03-12\")"
   ]
  },
  {
   "cell_type": "markdown",
   "metadata": {},
   "source": [
    "# Quant Report"
   ]
  },
  {
   "cell_type": "code",
   "execution_count": 2,
   "metadata": {},
   "outputs": [
    {
     "name": "stdout",
     "output_type": "stream",
     "text": [
      "Fund data shape: (2965,)\n",
      "Benchmark data shape: (2965,)\n"
     ]
    }
   ],
   "source": [
    "fund_data = pd.read_csv(\"fund_data.csv\", parse_dates=['date'])\n",
    "benchmark_data = pd.read_csv(\"benchmark_data.csv\", parse_dates=['date'])\n",
    "#fund_data['Date'] = pd.to_datetime(df['Date'])\n",
    "fund_data = fund_data.set_index(['date'], drop=True)\n",
    "benchmark_data = benchmark_data.set_index(['date'], drop=True)\n",
    "# Get common dates using index intersection\n",
    "common_dates = fund_data.index.intersection(benchmark_data.index)\n",
    "# Filter both dataframes to keep only common dates\n",
    "fund_data = fund_data.loc[common_dates]\n",
    "benchmark_data = benchmark_data.loc[common_dates]\n",
    "\n",
    "fund_data = fund_data.pct_change().dropna()\n",
    "fund_data = fund_data.iloc[:,0] # convert to series\n",
    "\n",
    "benchmark_data = benchmark_data.pct_change().dropna()\n",
    "benchmark_data = benchmark_data.iloc[:,0] # convert to series\n",
    "\n",
    "# Verify they have same shape now\n",
    "print(\"Fund data shape:\", fund_data.shape)\n",
    "print(\"Benchmark data shape:\", benchmark_data.shape)"
   ]
  },
  {
   "cell_type": "code",
   "execution_count": null,
   "metadata": {},
   "outputs": [],
   "source": [
    "import quantstats as qs"
   ]
  },
  {
   "cell_type": "code",
   "execution_count": null,
   "metadata": {},
   "outputs": [],
   "source": [
    "qs.reports.html(fund_df, benchmark_df,\n",
    "                title=fund_df.name,\n",
    "                benchmark_title=benchmark_df.name,\n",
    "                strategy_title=fund_df.name,\n",
    "                #download_filename=f'{fund_df.name}.html',\n",
    "                output=f'reports/{fund_df.name}.html')"
   ]
  },
  {
   "cell_type": "code",
   "execution_count": null,
   "metadata": {},
   "outputs": [],
   "source": [
    "def create_df_from_timeseries(data):\n",
    "    # Convert timestamps to datetime objects and create a list of dictionaries\n",
    "    formatted_data = []\n",
    "    fund_data = data['data']\n",
    "    name = data['name']\n",
    "    for entry in fund_data:\n",
    "        timestamp = datetime.utcfromtimestamp(entry[0] / 1000).strftime('%Y-%m-%d')\n",
    "        formatted_data.append({'Date': timestamp, 'Value': entry[1]})\n",
    "\n",
    "    # Create the pandas DataFrame\n",
    "    df = pd.DataFrame(formatted_data)\n",
    "    df['Date'] = pd.to_datetime(df['Date'])  # Convert 'Date' column to datetime dtype\n",
    "    df.set_index('Date', inplace=True)  # Set 'Date' as the index\n",
    "    df.columns = [name]\n",
    "    df = df.pct_change().dropna()\n",
    "    df = df.iloc[:,0] # convert to series\n",
    "    return df"
   ]
  }
 ],
 "metadata": {
  "kernelspec": {
   "display_name": ".venv",
   "language": "python",
   "name": "python3"
  },
  "language_info": {
   "codemirror_mode": {
    "name": "ipython",
    "version": 3
   },
   "file_extension": ".py",
   "mimetype": "text/x-python",
   "name": "python",
   "nbconvert_exporter": "python",
   "pygments_lexer": "ipython3",
   "version": "3.12.3"
  }
 },
 "nbformat": 4,
 "nbformat_minor": 2
}
